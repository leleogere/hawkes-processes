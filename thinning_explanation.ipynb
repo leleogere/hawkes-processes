{
 "cells": [
  {
   "cell_type": "code",
   "execution_count": null,
   "outputs": [],
   "source": [
    "import numpy as np\n",
    "import matplotlib.pyplot as plt"
   ],
   "metadata": {
    "collapsed": false,
    "pycharm": {
     "name": "#%%\n"
    }
   }
  },
  {
   "cell_type": "code",
   "execution_count": null,
   "outputs": [],
   "source": [
    "mu = 1.2\n",
    "alpha = .6\n",
    "beta = 1.\n",
    "T = 5.1\n",
    "seed = 560\n",
    "# seed += 1\n",
    "print(\"Seed =\", seed)\n",
    "resolution = 100\n",
    "\n",
    "np.random.seed(seed)\n",
    "\n",
    "def phi(t):\n",
    "    return alpha * np.exp(-beta * t)\n",
    "\n",
    "def lamb(mu, phi, t, tau):\n",
    "    return mu + sum([phi(t-tk) for tk in tau])\n",
    "\n",
    "events = []\n",
    "events_attempt = []\n",
    "lambda_bar_list = []\n",
    "D_list = []\n",
    "accepted = []\n",
    "s = 0\n",
    "while s < T:\n",
    "    lambda_bar = lamb(mu, phi, s, events)\n",
    "    w = np.random.exponential(1/lambda_bar)\n",
    "    s += w\n",
    "    D = np.random.uniform(0,lambda_bar)\n",
    "    if D <= lamb(mu, phi, s, events):\n",
    "        events.append(s)\n",
    "        accepted.append(True)\n",
    "    else:\n",
    "        accepted.append(False)\n",
    "    events_attempt.append(s)\n",
    "    D_list.append(D)\n",
    "    lambda_bar_list.append(lambda_bar)\n",
    "if events[-1] > T:\n",
    "    events = events[:-1]\n",
    "events_attempt = events_attempt[:-1]\n",
    "D_list = D_list[:-1]\n",
    "accepted = accepted[:-1]\n",
    "rejected = [not a for a in accepted]\n",
    "\n",
    "x = np.array([0, events[0]])\n",
    "intensity = np.array([mu, mu])\n",
    "pointsT = events + [T]\n",
    "for i in range(0, len(pointsT)-1):\n",
    "    p1, p2 = pointsT[i:i+2]\n",
    "    local_x = np.linspace(p1, p2, resolution)\n",
    "    local_intensity = [lamb(mu, phi, xi, pointsT[:i+1]) for xi in local_x]\n",
    "    x = np.append(x, local_x)\n",
    "    intensity = np.append(intensity, local_intensity)\n",
    "\n",
    "fig, ax = plt.subplots(figsize=(20,6))\n",
    "ax.set_xlim(0, T)\n",
    "ax.set_ylim(0, max(intensity)+1)\n",
    "lines = plt.plot(x, intensity, color=\"black\", label=\"Intensity $\\lambda(t)$\")\n",
    "ax.hlines(lambda_bar_list, [0]+events_attempt, events_attempt+[T], color=\"blue\", linestyles=\"dashed\", label=r\"Maximum intensity $\\bar\\lambda$\")\n",
    "ax.scatter(np.array(events_attempt)[accepted], np.array(D_list)[accepted], s=50, color=\"green\", label=r\"$\\mathcal{U}(0,\\bar\\lambda)$ (accepted)\", zorder=10)\n",
    "ax.scatter(np.array(events_attempt)[rejected], np.array(D_list)[rejected], s=50, color=\"red\", label=r\"$\\mathcal{U}(0,\\bar\\lambda)$ (rejected)\", zorder=10)\n",
    "ax.vlines(events, *ax.get_ylim(), color=\"darkgray\", linestyles=\"dashed\", linewidth=1.1, alpha=1, label = r\"Accepted event: $\\mathcal{U}(0,\\bar\\lambda) \\leq \\lambda(t)$\")\n",
    "ax.vlines(np.array(events_attempt)[rejected], *ax.get_ylim(), color=\"gray\", linestyles=\"dotted\", linewidth=.6, alpha=1, label=r\"Rejected event: $\\mathcal{U}(0,\\bar\\lambda) > \\lambda(t)$\")\n",
    "for (e1, e2) in zip([0]+events_attempt, events_attempt+[T]):\n",
    "    ax.annotate(\"\",\n",
    "                xy=(e1, max(intensity)+.5), xycoords='data',\n",
    "                xytext=(e2, max(intensity)+.5), textcoords='data',\n",
    "                arrowprops=dict(arrowstyle=\"<->\", connectionstyle=\"arc3\", color='gray', lw=1.5),\n",
    "                )\n",
    "    ax.text((e1+e2)/2, max(intensity)+.6, r\"$\\mathcal{E}(\\bar\\lambda)$\", ha=\"center\", va=\"center\")\n",
    "ax.legend()\n",
    "ax.set_title(\"Thinning algorithm\")\n",
    "ax.set_xlabel(\"Time\")\n",
    "ax.set_ylabel(\"Intensity\")\n",
    "fig.savefig(\"./figures/thinning_algorithm.pdf\", bbox_inches=\"tight\")\n",
    "plt.show()"
   ],
   "metadata": {
    "collapsed": false,
    "pycharm": {
     "name": "#%%\n"
    }
   }
  },
  {
   "cell_type": "code",
   "execution_count": null,
   "outputs": [],
   "source": [],
   "metadata": {
    "collapsed": false,
    "pycharm": {
     "name": "#%%\n"
    }
   }
  }
 ],
 "metadata": {
  "hide_input": false,
  "kernelspec": {
   "display_name": "Python 3",
   "language": "python",
   "name": "python3"
  },
  "language_info": {
   "codemirror_mode": {
    "name": "ipython",
    "version": 3
   },
   "file_extension": ".py",
   "mimetype": "text/x-python",
   "name": "python",
   "nbconvert_exporter": "python",
   "pygments_lexer": "ipython3",
   "version": "3.8.3"
  },
  "toc": {
   "base_numbering": 1,
   "nav_menu": {},
   "number_sections": true,
   "sideBar": true,
   "skip_h1_title": false,
   "title_cell": "Table of Contents",
   "title_sidebar": "Contents",
   "toc_cell": false,
   "toc_position": {},
   "toc_section_display": true,
   "toc_window_display": false
  },
  "varInspector": {
   "cols": {
    "lenName": 16,
    "lenType": 16,
    "lenVar": 40
   },
   "kernels_config": {
    "python": {
     "delete_cmd_postfix": "",
     "delete_cmd_prefix": "del ",
     "library": "var_list.py",
     "varRefreshCmd": "print(var_dic_list())"
    },
    "r": {
     "delete_cmd_postfix": ") ",
     "delete_cmd_prefix": "rm(",
     "library": "var_list.r",
     "varRefreshCmd": "cat(var_dic_list()) "
    }
   },
   "types_to_exclude": [
    "module",
    "function",
    "builtin_function_or_method",
    "instance",
    "_Feature"
   ],
   "window_display": false
  }
 },
 "nbformat": 4,
 "nbformat_minor": 4
}