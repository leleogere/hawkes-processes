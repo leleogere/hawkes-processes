{
 "cells": [
  {
   "cell_type": "code",
   "execution_count": null,
   "metadata": {},
   "outputs": [],
   "source": [
    "import numpy as np\n",
    "import pandas as pd\n",
    "import matplotlib.pyplot as plt"
   ]
  },
  {
   "cell_type": "code",
   "execution_count": null,
   "outputs": [],
   "source": [
    "df: pd.DataFrame = pd.read_csv('cac40.csv')\n",
    "df.dtypes"
   ],
   "metadata": {
    "collapsed": false,
    "pycharm": {
     "name": "#%%\n"
    }
   }
  },
  {
   "cell_type": "code",
   "execution_count": null,
   "outputs": [],
   "source": [
    "df[\"Close\"].plot()\n",
    "plt.show()"
   ],
   "metadata": {
    "collapsed": false,
    "pycharm": {
     "name": "#%%\n"
    }
   }
  },
  {
   "cell_type": "code",
   "execution_count": null,
   "outputs": [],
   "source": [
    "diff = np.diff(df[\"Close\"])\n",
    "fig, ax = plt.subplots(figsize=(20,5))\n",
    "df[\"Close\"].plot(x=\"Date\", ax=ax)\n",
    "events = np.argwhere(diff < -150).ravel().astype(float)\n",
    "plt.vlines(events, 0, df[\"Close\"].max(), color=\"red\", zorder=10)\n",
    "plt.show()"
   ],
   "metadata": {
    "collapsed": false,
    "pycharm": {
     "name": "#%%\n"
    }
   }
  },
  {
   "cell_type": "code",
   "execution_count": null,
   "outputs": [],
   "source": [
    "from tick.hawkes import HawkesExpKern"
   ],
   "metadata": {
    "collapsed": false,
    "pycharm": {
     "name": "#%%\n"
    }
   }
  },
  {
   "cell_type": "code",
   "execution_count": null,
   "outputs": [],
   "source": [
    "betas = np.logspace(-4, 0, 100)\n",
    "scores = []\n",
    "for beta in betas:\n",
    "    process = HawkesExpKern(beta).fit([events])\n",
    "    scores.append(process.score([events]))\n",
    "plt.semilogx(betas, scores)\n",
    "plt.show()\n",
    "best_score = np.argmax(scores)\n",
    "print(f\"Best beta: {betas[best_score]}\")\n",
    "process = HawkesExpKern(betas[best_score]).fit([events])\n",
    "process.fit([events])\n",
    "print(f\"Best mu and alpha/beta: {process.coeffs[0], process.coeffs[1]}\")\n",
    "print(process.score([events]))\n",
    "intens, x_steps = process.estimated_intensity([events], 1)\n",
    "intens = intens[0]\n",
    "print(intens.shape, x_steps.shape)\n",
    "fig, ax = plt.subplots(figsize=(20,5))\n",
    "plt.plot(x_steps, intens)\n",
    "plt.vlines(events, 0, intens.max(), color=\"red\", alpha=.1, zorder=10)\n",
    "plt.show()"
   ],
   "metadata": {
    "collapsed": false,
    "pycharm": {
     "name": "#%%\n"
    }
   }
  },
  {
   "cell_type": "code",
   "execution_count": null,
   "outputs": [],
   "source": [
    "# Visual goodness test based on https://pat-laub.github.io/pdfs/honours_thesis.pdf\n",
    "cum_intens = np.cumsum(intens)  # compute cumulative intensity\n",
    "fig, ax = plt.subplots(figsize=(20,5))\n",
    "plt.plot(x_steps, cum_intens)\n",
    "plt.vlines(events, 0, cum_intens.max(), color=\"red\", alpha=.1, zorder=10)\n",
    "plt.show()"
   ],
   "metadata": {
    "collapsed": false,
    "pycharm": {
     "name": "#%%\n"
    }
   }
  },
  {
   "cell_type": "code",
   "execution_count": null,
   "outputs": [],
   "source": [
    "from scipy.stats import expon\n",
    "def cum_intens_func(t):\n",
    "    return cum_intens[np.searchsorted(x_steps, t-1)]\n",
    "events_transformed = cum_intens_func(events)  # this should be a Poisson process with intensity 1\n",
    "fig, (ax1, ax2) = plt.subplots(ncols=2, figsize=(20,5))\n",
    "ax1.scatter(events_transformed, np.arange(1, len(events_transformed)+1))\n",
    "ax1.plot([0, events_transformed.max()], [0, events_transformed.max()], color=\"red\", linestyle=\"dashed\")  # this should align on the line y=x (goodness of fit)\n",
    "ax2.scatter(expon.cdf(np.diff(events_transformed)), expon.cdf(np.diff(np.roll(events_transformed, 1))))  # this should be uniformly distributed (independence of arrival times)\n",
    "plt.show()\n",
    "# same plots but directly for the Hawkes process (to show that it doesn't fit)\n",
    "fig, (ax1, ax2) = plt.subplots(ncols=2, figsize=(20,5))\n",
    "ax1.scatter(events, np.arange(1, len(events)+1))\n",
    "ax2.scatter(expon.cdf(np.diff(events)), expon.cdf(np.diff(np.roll(events, 1))))\n",
    "plt.show()"
   ],
   "metadata": {
    "collapsed": false,
    "pycharm": {
     "name": "#%%\n"
    }
   }
  },
  {
   "cell_type": "code",
   "execution_count": null,
   "outputs": [],
   "source": [],
   "metadata": {
    "collapsed": false,
    "pycharm": {
     "name": "#%%\n"
    }
   }
  },
  {
   "cell_type": "code",
   "execution_count": null,
   "outputs": [],
   "source": [],
   "metadata": {
    "collapsed": false,
    "pycharm": {
     "name": "#%%\n"
    }
   }
  }
 ],
 "metadata": {
  "hide_input": false,
  "kernelspec": {
   "display_name": "Python 3",
   "language": "python",
   "name": "python3"
  },
  "language_info": {
   "codemirror_mode": {
    "name": "ipython",
    "version": 3
   },
   "file_extension": ".py",
   "mimetype": "text/x-python",
   "name": "python",
   "nbconvert_exporter": "python",
   "pygments_lexer": "ipython3",
   "version": "3.8.3"
  },
  "toc": {
   "base_numbering": 1,
   "nav_menu": {},
   "number_sections": true,
   "sideBar": true,
   "skip_h1_title": false,
   "title_cell": "Table of Contents",
   "title_sidebar": "Contents",
   "toc_cell": false,
   "toc_position": {},
   "toc_section_display": true,
   "toc_window_display": false
  },
  "varInspector": {
   "cols": {
    "lenName": 16,
    "lenType": 16,
    "lenVar": 40
   },
   "kernels_config": {
    "python": {
     "delete_cmd_postfix": "",
     "delete_cmd_prefix": "del ",
     "library": "var_list.py",
     "varRefreshCmd": "print(var_dic_list())"
    },
    "r": {
     "delete_cmd_postfix": ") ",
     "delete_cmd_prefix": "rm(",
     "library": "var_list.r",
     "varRefreshCmd": "cat(var_dic_list()) "
    }
   },
   "types_to_exclude": [
    "module",
    "function",
    "builtin_function_or_method",
    "instance",
    "_Feature"
   ],
   "window_display": false
  }
 },
 "nbformat": 4,
 "nbformat_minor": 4
}