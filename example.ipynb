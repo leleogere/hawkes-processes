{
 "cells": [
  {
   "cell_type": "code",
   "execution_count": null,
   "metadata": {},
   "outputs": [],
   "source": [
    "import numpy as np\n",
    "import pandas as pd\n",
    "import matplotlib.pyplot as plt"
   ]
  },
  {
   "cell_type": "code",
   "execution_count": null,
   "outputs": [],
   "source": [
    "df: pd.DataFrame = pd.read_csv('cac40.csv')\n",
    "df.dtypes"
   ],
   "metadata": {
    "collapsed": false,
    "pycharm": {
     "name": "#%%\n"
    }
   }
  },
  {
   "cell_type": "code",
   "execution_count": null,
   "outputs": [],
   "source": [
    "df[\"Close\"].plot()\n",
    "plt.show()"
   ],
   "metadata": {
    "collapsed": false,
    "pycharm": {
     "name": "#%%\n"
    }
   }
  },
  {
   "cell_type": "code",
   "execution_count": null,
   "outputs": [],
   "source": [
    "diff = np.diff(df[\"Close\"])\n",
    "fig, ax = plt.subplots(figsize=(20,5))\n",
    "df[\"Close\"].plot(x=\"Date\", ax=ax)\n",
    "events = np.argwhere(diff > 150).ravel().astype(float)\n",
    "plt.vlines(events, 0, df[\"Close\"].max(), color=\"red\", zorder=10)\n",
    "plt.show()"
   ],
   "metadata": {
    "collapsed": false,
    "pycharm": {
     "name": "#%%\n"
    }
   }
  },
  {
   "cell_type": "code",
   "execution_count": null,
   "outputs": [],
   "source": [
    "from tick.hawkes import HawkesExpKern"
   ],
   "metadata": {
    "collapsed": false,
    "pycharm": {
     "name": "#%%\n"
    }
   }
  },
  {
   "cell_type": "code",
   "execution_count": null,
   "outputs": [],
   "source": [
    "betas = np.logspace(-4, 0, 100)\n",
    "scores = []\n",
    "for beta in betas:\n",
    "    process = HawkesExpKern(beta).fit([events])\n",
    "    scores.append(process.score([events]))\n",
    "plt.semilogx(betas, scores)\n",
    "plt.show()\n",
    "best_score = np.argmax(scores)\n",
    "print(f\"Best beta: {betas[best_score]}\")\n",
    "process = HawkesExpKern(betas[best_score]).fit([events])\n",
    "process.fit([events])\n",
    "print(f\"Best mu and alpha/beta: {process.coeffs[0], process.coeffs[1]}\")\n",
    "print(process.score([events]))\n",
    "intens, x_steps = process.estimated_intensity([events], 1)\n",
    "print(intens[0].shape, x_steps.shape)\n",
    "fig, ax = plt.subplots(figsize=(20,5))\n",
    "plt.plot(x_steps, intens[0])\n",
    "plt.vlines(events, 0, intens[0].max(), color=\"red\", alpha=.1, zorder=10)\n",
    "plt.show()"
   ],
   "metadata": {
    "collapsed": false,
    "pycharm": {
     "name": "#%%\n"
    }
   }
  }
 ],
 "metadata": {
  "hide_input": false,
  "kernelspec": {
   "display_name": "Python 3",
   "language": "python",
   "name": "python3"
  },
  "language_info": {
   "codemirror_mode": {
    "name": "ipython",
    "version": 3
   },
   "file_extension": ".py",
   "mimetype": "text/x-python",
   "name": "python",
   "nbconvert_exporter": "python",
   "pygments_lexer": "ipython3",
   "version": "3.8.3"
  },
  "toc": {
   "base_numbering": 1,
   "nav_menu": {},
   "number_sections": true,
   "sideBar": true,
   "skip_h1_title": false,
   "title_cell": "Table of Contents",
   "title_sidebar": "Contents",
   "toc_cell": false,
   "toc_position": {},
   "toc_section_display": true,
   "toc_window_display": false
  },
  "varInspector": {
   "cols": {
    "lenName": 16,
    "lenType": 16,
    "lenVar": 40
   },
   "kernels_config": {
    "python": {
     "delete_cmd_postfix": "",
     "delete_cmd_prefix": "del ",
     "library": "var_list.py",
     "varRefreshCmd": "print(var_dic_list())"
    },
    "r": {
     "delete_cmd_postfix": ") ",
     "delete_cmd_prefix": "rm(",
     "library": "var_list.r",
     "varRefreshCmd": "cat(var_dic_list()) "
    }
   },
   "types_to_exclude": [
    "module",
    "function",
    "builtin_function_or_method",
    "instance",
    "_Feature"
   ],
   "window_display": false
  }
 },
 "nbformat": 4,
 "nbformat_minor": 4
}