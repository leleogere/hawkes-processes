{
 "cells": [
  {
   "cell_type": "code",
   "execution_count": null,
   "metadata": {
    "ExecuteTime": {
     "end_time": "2021-11-26T16:12:50.795053Z",
     "start_time": "2021-11-26T16:12:50.619288Z"
    }
   },
   "outputs": [],
   "source": [
    "import numpy as np\n",
    "import matplotlib.pyplot as plt\n",
    "from warnings import warn\n",
    "from typing import Callable"
   ]
  },
  {
   "cell_type": "code",
   "execution_count": null,
   "metadata": {
    "ExecuteTime": {
     "end_time": "2021-11-26T16:12:51.025051Z",
     "start_time": "2021-11-26T16:12:50.981433Z"
    },
    "pycharm": {
     "name": "#%%\n"
    }
   },
   "outputs": [],
   "source": [
    "class CountingProcess:\n",
    "    def __init__(self,\n",
    "                 T: float,\n",
    "                 claim_law: Callable[[float], float] = None,\n",
    "                 u: float = 1.0,\n",
    "                 p: float = 1.0,\n",
    "                 process_name: str = \"Counting process\",\n",
    "                 seed: int = None):\n",
    "        if seed is not None:\n",
    "            np.random.seed(seed)\n",
    "        if T <= 0:\n",
    "            raise ValueError(\"T must be strictly positive\")\n",
    "        self.T = T\n",
    "        self.name = process_name\n",
    "        self.events = self.generate_events()\n",
    "        self.N = len(self.events)\n",
    "        self.claim_law = claim_law if claim_law is not None else lambda: np.random.uniform(0,1)\n",
    "        self.claims = self.generate_claims()\n",
    "        self.u = u\n",
    "        self.p = p\n",
    "        self.res = 1000\n",
    "\n",
    "    def generate_events(self):\n",
    "        raise NotImplementedError(\"The method 'generate_events' must be implemented in a subclass\")\n",
    "\n",
    "    def generate_intensity(self):\n",
    "        raise NotImplementedError(\"The method 'generate_intensity' must be implemented in a subclass\")\n",
    "\n",
    "    def get_mean_and_variance(self, t, variable=\"process\"):\n",
    "        raise NotImplementedError(\"The method 'get_mean_and_variance' must be implemented in a subclass\")\n",
    "\n",
    "    def generate_claims(self, claim_law=None):\n",
    "        if claim_law is None:\n",
    "            claim_law = self.claim_law\n",
    "        return np.array([claim_law() for _ in range(self.N)])\n",
    "\n",
    "    def generate_risk(self, u, p):\n",
    "        time = [0.]\n",
    "        resources = [u]\n",
    "        for (t,c) in zip(self.events, self.claims):\n",
    "            resources.append(resources[-1] + p*(t - time[-1]))  # add the new resource\n",
    "            resources.append(resources[-1] - c)  # remove the sinister\n",
    "            time += [t, t]\n",
    "        return time, resources\n",
    "\n",
    "    def _events_with_limits(self):\n",
    "        return [0.] + self.events + [self.T]\n",
    "\n",
    "    def _theory_on_ax(self, ax, variable=\"process\"):\n",
    "        try:\n",
    "            x = np.linspace(0., self.T, self.res)\n",
    "            mean, var = self.get_mean_and_variance(x, variable=variable)\n",
    "            ax.plot(x, mean, color=\"green\")\n",
    "            ax.fill_between(x, mean - 1.96*np.sqrt(var), mean + 1.96*np.sqrt(var), color=\"green\", alpha=0.1)\n",
    "        except NotImplementedError:\n",
    "            warn(f\"The method 'get_mean_and_variance' is not implemented for variable '{variable}'\")\n",
    "\n",
    "    def _process_on_ax(self, ax, plot_theory=False):\n",
    "        ax.step(self._events_with_limits(), list(range(self.N + 1)) + [self.N], where=\"post\")\n",
    "        if plot_theory:\n",
    "            self._theory_on_ax(ax, variable=\"process\")\n",
    "        ax.vlines(self.events, *ax.get_ylim(), color=\"red\", linewidth=0.5, linestyle=\"dashed\")\n",
    "        ax.set_xlim(0, self.T)\n",
    "        ax.set_title(self.name)\n",
    "        ax.set_xlabel(\"Time\")\n",
    "        ax.set_ylabel(\"$N(t)$\")\n",
    "        ax.grid()\n",
    "\n",
    "    def _intensity_on_ax(self, ax, plot_theory=False):\n",
    "        absintens, intens = self.generate_intensity()\n",
    "        ax.plot(absintens, intens)\n",
    "        if plot_theory:\n",
    "            self._theory_on_ax(ax, variable=\"intensity\")\n",
    "        ax.vlines(self.events, *ax.get_ylim(), color=\"red\", linewidth=0.5, linestyle=\"dashed\")\n",
    "        ax.set_xlim(0, self.T)\n",
    "        ax.set_title(self.name + \" intensity\")\n",
    "        ax.set_xlabel(\"Time\")\n",
    "        ax.set_ylabel(\"$\\lambda(t)$\")\n",
    "        ax.grid()\n",
    "\n",
    "    def _risk_on_ax(self, ax, plot_theory=False, additional_parameters=None):\n",
    "        u, p, mean_claim, var_claim = additional_parameters\n",
    "        absrisk, risk = self.generate_risk(u, p)\n",
    "        ax.plot(absrisk, risk)\n",
    "        if plot_theory:\n",
    "            self._theory_on_ax(ax, variable=\"risk\")\n",
    "        ax.hlines(0, *ax.get_xlim(), color=\"blue\", linestyle=\"dashed\")\n",
    "        ax.vlines(self.events, *ax.get_ylim(), color=\"red\", linewidth=0.5, linestyle=\"dashed\")\n",
    "        ruin = np.array([t for (i,(t,r)) in enumerate(zip(absrisk[1:], risk[1:])) if r < 0 and risk[i] > 0])\n",
    "        ax.scatter(ruin, np.zeros_like(ruin), color=\"red\", zorder=10)\n",
    "        ax.set_xlim(0, self.T)\n",
    "        ax.set_title(self.name + f\" risk (u={u}, p={p})\")\n",
    "        ax.set_xlabel(\"Time\")\n",
    "        ax.set_ylabel(\"Resources\")\n",
    "        ax.grid()\n",
    "\n",
    "    def plot_process(self, plot_theory=False, dim=(10,6), save=None):\n",
    "        fig, ax = plt.subplots(figsize=dim)\n",
    "        self._process_on_ax(ax, plot_theory)\n",
    "        if save is not None:\n",
    "            fig.savefig(save, transparent=True)\n",
    "        plt.show()\n",
    "\n",
    "    def plot_intensity(self, plot_theory=False, dim=(10,6), save=None):\n",
    "        fig, ax = plt.subplots(figsize=dim)\n",
    "        self._intensity_on_ax(ax, plot_theory)\n",
    "        if save is not None:\n",
    "            fig.savefig(save, transparent=True)\n",
    "        plt.show()\n",
    "\n",
    "    def plot_risk(self, u, p, plot_theory=False, dim=(10,6), save=None):\n",
    "        fig, ax = plt.subplots(figsize=dim)\n",
    "        self._risk_on_ax(ax, plot_theory, [u, p, 0, 0])\n",
    "        if save is not None:\n",
    "            fig.savefig(save, transparent=True)\n",
    "        plt.show()\n",
    "\n",
    "    def plot_process_and_risk(self, u, p, plot_theory=False, dim=(10,6), save=None):\n",
    "        fig, ax = plt.subplots(figsize=dim)\n",
    "        self._process_on_ax(ax, plot_theory)\n",
    "        self._risk_on_ax(ax, plot_theory, [u, p, 0, 0])\n",
    "        if save is not None:\n",
    "            fig.savefig(save, transparent=True)\n",
    "        plt.show()\n",
    "\n",
    "    def plot_process_and_intensity(self, plot_theory=False, dim=(10,8), save=None):\n",
    "        fig, (ax1, ax2) = plt.subplots(2, 1, figsize=dim)\n",
    "        self._process_on_ax(ax1, plot_theory=plot_theory)\n",
    "        self._intensity_on_ax(ax2, plot_theory=plot_theory)\n",
    "        fig.tight_layout()\n",
    "        if save is not None:\n",
    "            fig.savefig(save, transparent=True)\n",
    "        plt.show()\n",
    "\n",
    "    def plot_process_and_intensity_and_risk(self, u, p, plot_theory=False, dim=(10,10), save=None):\n",
    "        fig, (ax1, ax2, ax3) = plt.subplots(3, 1, figsize=dim)\n",
    "        self._process_on_ax(ax1, plot_theory)\n",
    "        self._intensity_on_ax(ax2, plot_theory)\n",
    "        self._risk_on_ax(ax3, plot_theory, [u, p, 0, 0])\n",
    "        fig.tight_layout()\n",
    "        if save is not None:\n",
    "            fig.savefig(save, transparent=True)\n",
    "        plt.show()"
   ]
  },
  {
   "cell_type": "code",
   "execution_count": null,
   "metadata": {
    "ExecuteTime": {
     "end_time": "2021-11-26T16:12:51.539213Z",
     "start_time": "2021-11-26T16:12:51.077701Z"
    },
    "pycharm": {
     "name": "#%%\n"
    }
   },
   "outputs": [],
   "source": [
    "class HawkesProcess(CountingProcess):\n",
    "    def __init__(self,\n",
    "                 mu: float,\n",
    "                 alpha: float,\n",
    "                 beta: float,\n",
    "                 name: str = \"Hawkes process\",\n",
    "                 **kwargs):\n",
    "        if alpha <  0 or beta < alpha:\n",
    "            raise ValueError(f\"We must have 0 < alpha < beta (alpha={alpha} and beta={beta})\")\n",
    "        self.mu = mu\n",
    "        self.alpha = alpha\n",
    "        self.beta = beta\n",
    "        super().__init__(process_name=name, **kwargs)\n",
    "\n",
    "    def get_mean_and_variance(self, t, variable=\"process\"):\n",
    "        diff = self.beta - self.alpha\n",
    "        mu_inf = self.beta*self.mu/diff\n",
    "        diff_mu = self.mu - mu_inf\n",
    "        if variable == \"process\":\n",
    "            mean = mu_inf*t + diff_mu/diff * (1 - np.exp(-diff*t))\n",
    "            var = self.beta**2*mu_inf/(diff**2)*t + \\\n",
    "                  self.alpha**2*(2*self.mu - mu_inf)/(2*diff**3) * (1 - np.exp(-2*diff*t)) - \\\n",
    "                  2*self.alpha*self.beta*diff_mu/(diff**2) * t * np.exp(-diff*t) + \\\n",
    "                  ( (self.beta+self.alpha)/(diff**2) * diff_mu - 2*self.alpha*self.beta/(diff**3) * mu_inf ) * (1 - np.exp(-diff*t))\n",
    "        elif variable == \"intensity\":\n",
    "            mean = mu_inf + diff_mu * np.exp(-diff*t)\n",
    "            var = self.alpha**2*mu_inf/(2*diff) + self.alpha**2*diff_mu/diff*np.exp(-diff*t) - self.alpha**2*(2*self.mu-mu_inf)/(2*diff)*np.exp(-2*diff*t)\n",
    "        elif variable == \"risk\":\n",
    "            estimate_claim_parameters = [self.claim_law() for _ in range(1000)]\n",
    "            claim_mean = np.mean(estimate_claim_parameters)\n",
    "            mean_process, _ = self.get_mean_and_variance(t, variable=\"process\")\n",
    "            mean = self.u + self.p*t - claim_mean * mean_process\n",
    "            var = 0\n",
    "            warn(\"Risk variance is not implemented for Hawkes process\", stacklevel=2)\n",
    "        else:\n",
    "            raise NotImplementedError(f\"Not implemented yet for variable {variable}\")\n",
    "        return mean, np.clip(var, 0, np.inf)\n",
    "\n",
    "    def phi(self, t):\n",
    "        return self.alpha * np.exp(-self.beta * t)\n",
    "\n",
    "    def lamb(self, t, tau):\n",
    "        return self.mu + sum([self.phi(t-tk) for tk in tau])\n",
    "\n",
    "    def generate_events(self):\n",
    "        Tau = []\n",
    "        s = n = t = 0\n",
    "        while s < self.T:\n",
    "            lambda_bar = self.lamb(s, Tau)\n",
    "            u = np.random.uniform(0,1)\n",
    "            w = -np.log(u)/lambda_bar\n",
    "            s += w\n",
    "            D = np.random.uniform(0,1)\n",
    "            if D*lambda_bar <= self.lamb(s, Tau):\n",
    "                n += 1\n",
    "                t = s\n",
    "                Tau.append(t)\n",
    "        if t <= self.T:\n",
    "            return Tau\n",
    "        else:\n",
    "            return Tau[:-1]\n",
    "\n",
    "    def generate_intensity(self):\n",
    "        x = np.linspace(0, self.T, self.res)\n",
    "        intensity = self.mu * np.ones(self.res)\n",
    "        points0 = self._events_with_limits()\n",
    "        for i in range(len(points0)-1):\n",
    "            p1, p2 = points0[i:i+2]\n",
    "            i1 = (np.abs(x - p1)).argmin() + 1  # +1 for left continuity\n",
    "            i2 = (np.abs(x - p2)).argmin() + 1  # +1 because of python range excludes last element\n",
    "            if i == 0:\n",
    "                intensity[i1:i2] = self.mu\n",
    "            else:\n",
    "                local_intensity = np.array([self.lamb(x[ii], points0[:i]) for ii in range(i1, i2)])\n",
    "                intensity[i1:i2] = local_intensity\n",
    "        return x, intensity\n",
    "\n",
    "h = HawkesProcess(mu=1.2, alpha=0.6, beta=.65, T=100, seed=11)\n",
    "h.plot_process_and_intensity_and_risk(u=1, p=2.5, plot_theory=True)"
   ]
  },
  {
   "cell_type": "code",
   "execution_count": null,
   "outputs": [],
   "source": [
    "h.claims = h.generate_claims(claim_law=lambda: np.random.normal(5,2))\n",
    "h.plot_risk(10, 8)"
   ],
   "metadata": {
    "collapsed": false,
    "pycharm": {
     "name": "#%%\n"
    }
   }
  },
  {
   "cell_type": "code",
   "execution_count": null,
   "metadata": {
    "ExecuteTime": {
     "end_time": "2021-11-26T16:13:02.613347Z",
     "start_time": "2021-11-26T16:13:02.316503Z"
    },
    "pycharm": {
     "name": "#%%\n"
    }
   },
   "outputs": [],
   "source": [
    "class PoissonProcess(CountingProcess):\n",
    "    def __init__(self,\n",
    "                 lamb: float,\n",
    "                 name: str = \"Poisson process\",\n",
    "                 **kwargs):\n",
    "        if lamb <= 0:\n",
    "            raise ValueError(f\"lambda must be strictly positive (lambda={lamb})\")\n",
    "        self.lamb = lamb\n",
    "        super().__init__(process_name=name, **kwargs)\n",
    "\n",
    "    def get_mean_and_variance(self, t, variable=\"process\"):\n",
    "        raise NotImplementedError(f\"Not implemented yet for variable {variable}\")\n",
    "\n",
    "    def generate_events(self):\n",
    "        Tau = []\n",
    "        s = 0\n",
    "        while s < self.T:\n",
    "            u = np.random.uniform(0,1)\n",
    "            w = -np.log(u)/self.lamb\n",
    "            s += w\n",
    "            Tau.append(s)\n",
    "        return Tau\n",
    "\n",
    "    def generate_intensity(self):\n",
    "        x = [0, self.T]\n",
    "        intensity = [self.lamb, self.lamb]\n",
    "        return x, intensity\n",
    "\n",
    "p = PoissonProcess(lamb=2, T=20)\n",
    "p.plot_process_and_intensity()"
   ]
  },
  {
   "cell_type": "markdown",
   "metadata": {
    "pycharm": {
     "name": "#%% md\n"
    }
   },
   "source": [
    "# Output for slides"
   ]
  },
  {
   "cell_type": "markdown",
   "source": [
    "## Title slide"
   ],
   "metadata": {
    "collapsed": false,
    "pycharm": {
     "name": "#%% md\n"
    }
   }
  },
  {
   "cell_type": "code",
   "execution_count": null,
   "outputs": [],
   "source": [
    "h = HawkesProcess(mu=1.2, alpha=0.6, beta=.64, T=6, seed=16)\n",
    "h.res = 5000\n",
    "fig, ax = plt.subplots(figsize=(10,6))\n",
    "absintens, intens = h.generate_intensity()\n",
    "ax.plot(absintens, intens, color=\"red\", linewidth=.5, alpha=.5)\n",
    "ax.set_xlim(0, h.T)\n",
    "ax.grid()\n",
    "plt.axis(\"off\")\n",
    "fig.savefig(\"/tmp/fig.png\", transparent=True, dpi=500, bbox_inches='tight')\n",
    "plt.show()"
   ],
   "metadata": {
    "collapsed": false,
    "pycharm": {
     "name": "#%%\n"
    }
   }
  }
 ],
 "metadata": {
  "hide_input": false,
  "kernelspec": {
   "display_name": "Python 3",
   "language": "python",
   "name": "python3"
  },
  "language_info": {
   "codemirror_mode": {
    "name": "ipython",
    "version": 3
   },
   "file_extension": ".py",
   "mimetype": "text/x-python",
   "name": "python",
   "nbconvert_exporter": "python",
   "pygments_lexer": "ipython3",
   "version": "3.8.3"
  },
  "toc": {
   "base_numbering": 1,
   "nav_menu": {},
   "number_sections": true,
   "sideBar": true,
   "skip_h1_title": false,
   "title_cell": "Table of Contents",
   "title_sidebar": "Contents",
   "toc_cell": false,
   "toc_position": {},
   "toc_section_display": true,
   "toc_window_display": false
  },
  "varInspector": {
   "cols": {
    "lenName": 16,
    "lenType": 16,
    "lenVar": 40
   },
   "kernels_config": {
    "python": {
     "delete_cmd_postfix": "",
     "delete_cmd_prefix": "del ",
     "library": "var_list.py",
     "varRefreshCmd": "print(var_dic_list())"
    },
    "r": {
     "delete_cmd_postfix": ") ",
     "delete_cmd_prefix": "rm(",
     "library": "var_list.r",
     "varRefreshCmd": "cat(var_dic_list()) "
    }
   },
   "types_to_exclude": [
    "module",
    "function",
    "builtin_function_or_method",
    "instance",
    "_Feature"
   ],
   "window_display": false
  }
 },
 "nbformat": 4,
 "nbformat_minor": 4
}