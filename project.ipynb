{
 "cells": [
  {
   "cell_type": "code",
   "execution_count": null,
   "metadata": {
    "ExecuteTime": {
     "end_time": "2021-11-17T08:06:47.246564Z",
     "start_time": "2021-11-17T08:06:46.913058Z"
    }
   },
   "outputs": [],
   "source": [
    "import numpy as np\n",
    "import matplotlib.pyplot as plt"
   ]
  },
  {
   "cell_type": "code",
   "execution_count": null,
   "metadata": {
    "pycharm": {
     "name": "#%%\n"
    }
   },
   "outputs": [],
   "source": [
    "class CountingProcess:\n",
    "    def __init__(self, T, process_name=\"Counting process\"):\n",
    "        self.T = T\n",
    "        self.name = process_name\n",
    "        self.events = self.generate_events()\n",
    "        self.N = len(self.events)\n",
    "\n",
    "    def generate_events(self):\n",
    "        pass\n",
    "\n",
    "    def _generate_intensity(self, res=1000):\n",
    "        pass\n",
    "\n",
    "    def _events_with_limits(self):\n",
    "        return [0] + self.events + [self.T]\n",
    "\n",
    "    def plot_process(self, width=10, height=6):\n",
    "        plt.figure(figsize=(width, height))\n",
    "        plt.step(self._events_with_limits(), list(range(self.N+1))+[self.N], where=\"post\")\n",
    "        plt.title(\"Hawkes process\")\n",
    "        plt.xlim(0, self.T)\n",
    "        plt.grid()\n",
    "        plt.show()\n",
    "\n",
    "    def plot_intensity(self, width=10, height=6):\n",
    "        plt.figure(figsize=(width, height))\n",
    "        absintens, intens = self._generate_intensity()\n",
    "        plt.plot(absintens, intens)\n",
    "        plt.title(self.name + \" intensity\")\n",
    "        plt.xlim(0, self.T)\n",
    "        plt.grid()\n",
    "        plt.show()\n",
    "\n",
    "    def plot_process_and_intensity(self, width=10, height=8):\n",
    "        fig, (ax1, ax2) = plt.subplots(2, 1, figsize=(width, height))\n",
    "        ax1.step(self._events_with_limits(), list(range(self.N+1))+[self.N], where=\"post\")\n",
    "        ax1.set_xlim(0, self.T)\n",
    "        ax1.grid()\n",
    "        ax1.set_title(self.name)\n",
    "        ax1.set_xlabel(\"Time\")\n",
    "        ax1.set_ylabel(\"$N(t)$\")\n",
    "        absintens, intens = self._generate_intensity()\n",
    "        ax2.plot(absintens, intens)\n",
    "        ax2.set_xlim(0, self.T)\n",
    "        ax2.grid()\n",
    "        ax2.set_title(self.name + \" intensity\")\n",
    "        ax2.set_xlabel(\"Time\")\n",
    "        ax2.set_ylabel(\"$\\lambda(t)$\")\n",
    "        fig.tight_layout()\n",
    "        plt.show()"
   ]
  },
  {
   "cell_type": "code",
   "execution_count": null,
   "metadata": {
    "pycharm": {
     "name": "#%%\n"
    }
   },
   "outputs": [],
   "source": [
    "class HawkesProcess(CountingProcess):\n",
    "    def __init__(self, mu, alpha, beta, T, name=\"Hawkes process\"):\n",
    "        if alpha <  0 or beta < alpha:\n",
    "            raise ValueError(f\"We must have 0 < alpha < beta (alpha={alpha} and beta={beta})\")\n",
    "        self.mu = mu\n",
    "        self.alpha = alpha\n",
    "        self.beta = beta\n",
    "        super().__init__(T, name)\n",
    "\n",
    "    def lamb(self, t, tau):\n",
    "        return self.mu + sum([self.alpha * np.exp(-self.beta*(t-tk)) for tk in tau])\n",
    "\n",
    "    def generate_events(self):\n",
    "        Tau = []\n",
    "        s = n = 0\n",
    "        while s < self.T:\n",
    "            lambda_bar = self.lamb(s, Tau)\n",
    "            u = np.random.uniform(0,1)\n",
    "            w = -np.log(u)/lambda_bar\n",
    "            s += w\n",
    "            D = np.random.uniform(0,1)\n",
    "            if D*lambda_bar <= self.lamb(s, Tau):\n",
    "                n += 1\n",
    "                t = s\n",
    "                Tau.append(t)\n",
    "        if t <= self.T:\n",
    "            return Tau\n",
    "        else:\n",
    "            return Tau[:-1]\n",
    "\n",
    "    def _generate_intensity(self, res=1000):\n",
    "        x = np.linspace(0, self.T, res)\n",
    "        intensity = self.mu * np.ones(res)\n",
    "        points0 = self._events_with_limits()\n",
    "        for i in range(len(points0)-1):\n",
    "            p1, p2 = points0[i:i+2]\n",
    "            i1 = (np.abs(x - p1)).argmin()\n",
    "            i2 = (np.abs(x - p2)).argmin()\n",
    "            if i == 0:\n",
    "                intensity[i1:i2+1] = self.mu\n",
    "            else:\n",
    "                local_intensity = np.array([self.lamb(x[ii], points0[:i+1]) for ii in range(i1, i2+1)])\n",
    "                intensity[i1:i2+1] = local_intensity\n",
    "        return x, intensity\n",
    "\n",
    "h = HawkesProcess(1.2, 0.6, 1, 10)\n",
    "h.plot_process_and_intensity()"
   ]
  },
  {
   "cell_type": "code",
   "execution_count": null,
   "metadata": {
    "pycharm": {
     "name": "#%%\n"
    }
   },
   "outputs": [],
   "source": [
    "class PoissonProcess(CountingProcess):\n",
    "    def __init__(self, lamb, T, name=\"Poisson process\"):\n",
    "        if lamb <= 0:\n",
    "            raise ValueError(f\"lambda must be strictly positive (lambda={lamb})\")\n",
    "        self.lamb = lamb\n",
    "        super().__init__(T, name)\n",
    "\n",
    "    def generate_events(self):\n",
    "        Tau = []\n",
    "        s = n = 0\n",
    "        while s < self.T:\n",
    "            u = np.random.uniform(0,1)\n",
    "            w = -np.log(u)/self.lamb\n",
    "            s += w\n",
    "            Tau.append(s)\n",
    "        return Tau\n",
    "\n",
    "    def _generate_intensity(self):\n",
    "        x = [0, self.T]\n",
    "        intensity = [self.lamb, self.lamb]\n",
    "        return x, intensity\n",
    "\n",
    "p = PoissonProcess(2, 20)\n",
    "p.plot_process_and_intensity()"
   ]
  }
 ],
 "metadata": {
  "hide_input": false,
  "kernelspec": {
   "display_name": "Python 3",
   "language": "python",
   "name": "python3"
  },
  "language_info": {
   "codemirror_mode": {
    "name": "ipython",
    "version": 3
   },
   "file_extension": ".py",
   "mimetype": "text/x-python",
   "name": "python",
   "nbconvert_exporter": "python",
   "pygments_lexer": "ipython3",
   "version": "3.8.3"
  },
  "toc": {
   "base_numbering": 1,
   "nav_menu": {},
   "number_sections": true,
   "sideBar": true,
   "skip_h1_title": false,
   "title_cell": "Table of Contents",
   "title_sidebar": "Contents",
   "toc_cell": false,
   "toc_position": {},
   "toc_section_display": true,
   "toc_window_display": false
  },
  "varInspector": {
   "cols": {
    "lenName": 16,
    "lenType": 16,
    "lenVar": 40
   },
   "kernels_config": {
    "python": {
     "delete_cmd_postfix": "",
     "delete_cmd_prefix": "del ",
     "library": "var_list.py",
     "varRefreshCmd": "print(var_dic_list())"
    },
    "r": {
     "delete_cmd_postfix": ") ",
     "delete_cmd_prefix": "rm(",
     "library": "var_list.r",
     "varRefreshCmd": "cat(var_dic_list()) "
    }
   },
   "types_to_exclude": [
    "module",
    "function",
    "builtin_function_or_method",
    "instance",
    "_Feature"
   ],
   "window_display": false
  }
 },
 "nbformat": 4,
 "nbformat_minor": 4
}
