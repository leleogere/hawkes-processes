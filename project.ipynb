{
 "cells": [
  {
   "cell_type": "code",
   "execution_count": null,
   "metadata": {
    "ExecuteTime": {
     "end_time": "2021-12-13T14:41:35.565860Z",
     "start_time": "2021-12-13T14:41:35.371308Z"
    },
    "pycharm": {
     "name": "#%%\n"
    }
   },
   "outputs": [],
   "source": [
    "import numpy as np\n",
    "import matplotlib.pyplot as plt\n",
    "from warnings import warn\n",
    "from typing import Callable, Optional"
   ]
  },
  {
   "cell_type": "markdown",
   "metadata": {},
   "source": [
    "# Defining processes"
   ]
  },
  {
   "cell_type": "code",
   "execution_count": null,
   "metadata": {
    "ExecuteTime": {
     "end_time": "2021-12-13T14:41:35.623899Z",
     "start_time": "2021-12-13T14:41:35.567452Z"
    },
    "pycharm": {
     "name": "#%%\n"
    }
   },
   "outputs": [],
   "source": [
    "class CountingProcess:\n",
    "    def __init__(self,\n",
    "                 T: float,\n",
    "                 claim_law: Optional[Callable[[float], float]] = None,\n",
    "                 u: float = 1.0,\n",
    "                 p: float = 1.0,\n",
    "                 process_name: str = \"Counting process\",\n",
    "                 seed: int = None):\n",
    "        self.res = 100\n",
    "        if seed is None:\n",
    "            seed = np.random.randint(0, 2**32)\n",
    "            print(f\"Seed: {seed}\")\n",
    "        np.random.seed(seed)\n",
    "        if T <= 0:\n",
    "            raise ValueError(\"T must be strictly positive\")\n",
    "        self.T = T\n",
    "        self.name = process_name\n",
    "        self.events = self.generate_events()\n",
    "        self.N = len(self.events)\n",
    "        self.claim_law = claim_law if claim_law is not None else lambda: np.random.uniform(0,1)\n",
    "        self.claims = self.generate_claims()\n",
    "        self.u = u\n",
    "        self.p = p\n",
    "\n",
    "    def generate_events(self):\n",
    "        raise NotImplementedError(\"The method 'generate_events' must be implemented in a subclass\")\n",
    "\n",
    "    def generate_intensity(self):\n",
    "        raise NotImplementedError(\"The method 'generate_intensity' must be implemented in a subclass\")\n",
    "\n",
    "    def get_mean_and_variance(self, t, variable=\"process\"):\n",
    "        raise NotImplementedError(\"The method 'get_mean_and_variance' must be implemented in a subclass\")\n",
    "\n",
    "    def generate_claims(self):\n",
    "        return np.array([self.claim_law() for _ in range(self.N)])\n",
    "\n",
    "    def generate_risk(self):\n",
    "        time = [0.]\n",
    "        resources = [self.u]\n",
    "        for (t,c) in zip(self.events, self.claims):\n",
    "            resources.append(resources[-1] + self.p*(t - time[-1]))  # add the new resource\n",
    "            resources.append(resources[-1] - c)  # remove the sinister\n",
    "            time += [t, t]\n",
    "        resources.append(resources[-1] + self.p*(self.T - time[-1]))\n",
    "        time.append(self.T)\n",
    "        return time, resources\n",
    "\n",
    "    def _events_with_limits(self):\n",
    "        return [0.] + self.events + [self.T]\n",
    "\n",
    "    def _theory_on_ax(self, ax, variable=\"process\"):\n",
    "        try:\n",
    "            x = np.linspace(0., self.T, self.res)\n",
    "            mean, var = self.get_mean_and_variance(x, variable=variable)\n",
    "            ax.plot(x, mean, color=\"green\")\n",
    "            ax.fill_between(x, mean - 1.96*np.sqrt(var), mean + 1.96*np.sqrt(var), color=\"green\", alpha=0.2)\n",
    "        except NotImplementedError:\n",
    "            warn(f\"The method 'get_mean_and_variance' is not implemented for variable '{variable}'\")\n",
    "\n",
    "    def _process_on_ax(self, ax, plot_theory=False):\n",
    "        ax.step(self._events_with_limits(), list(range(self.N + 1)) + [self.N], where=\"post\")\n",
    "        if plot_theory:\n",
    "            self._theory_on_ax(ax, variable=\"process\")\n",
    "        ax.vlines(self.events, *ax.get_ylim(), color=\"red\", linewidth=0.8, linestyle=\"dashed\")\n",
    "        ax.set_xlim(0, self.T)\n",
    "        ax.set_title(self.name)\n",
    "        ax.set_xlabel(\"Time\")\n",
    "        ax.set_ylabel(\"$N(t)$\")\n",
    "        ax.grid()\n",
    "\n",
    "    def _intensity_on_ax(self, ax, plot_theory=False):\n",
    "        absintens, intens = self.generate_intensity()\n",
    "        ax.plot(absintens, intens)\n",
    "        if plot_theory:\n",
    "            self._theory_on_ax(ax, variable=\"intensity\")\n",
    "        ax.vlines(self.events, *ax.get_ylim(), color=\"red\", linewidth=0.8, linestyle=\"dashed\")\n",
    "        ax.set_xlim(0, self.T)\n",
    "        ax.set_title(self.name + \" intensity\")\n",
    "        ax.set_xlabel(\"Time\")\n",
    "        ax.set_ylabel(\"$\\lambda(t)$\")\n",
    "        ax.grid()\n",
    "\n",
    "    def _risk_on_ax(self, ax, plot_theory=False):\n",
    "        absrisk, risk = self.generate_risk()\n",
    "        ax.plot(absrisk, risk)\n",
    "        if plot_theory:\n",
    "            self._theory_on_ax(ax, variable=\"risk\")\n",
    "        ax.hlines(0, *ax.get_xlim(), color=\"blue\", linestyle=\"dashed\")\n",
    "        ax.vlines(self.events, *ax.get_ylim(), color=\"red\", linewidth=0.8, linestyle=\"dashed\")\n",
    "        ruin = np.array([t for (i,(t,r)) in enumerate(zip(absrisk[1:], risk[1:])) if r < 0 and risk[i] > 0])\n",
    "        ax.scatter(ruin, np.zeros_like(ruin), color=\"red\", zorder=10)\n",
    "        ax.set_xlim(0, self.T)\n",
    "        ax.set_title(self.name + f\" risk (u={self.u}, p={self.p})\")\n",
    "        ax.set_xlabel(\"Time\")\n",
    "        ax.set_ylabel(\"Resources\")\n",
    "        ax.grid()\n",
    "\n",
    "    def plot_process(self, plot_theory=False, dim=(10,6), save=None):\n",
    "        fig, ax = plt.subplots(figsize=dim)\n",
    "        self._process_on_ax(ax, plot_theory)\n",
    "        if save is not None:\n",
    "            fig.savefig(save, transparent=True)\n",
    "        plt.show()\n",
    "\n",
    "    def plot_intensity(self, plot_theory=False, dim=(10,6), save=None):\n",
    "        fig, ax = plt.subplots(figsize=dim)\n",
    "        self._intensity_on_ax(ax, plot_theory)\n",
    "        if save is not None:\n",
    "            fig.savefig(save, transparent=True)\n",
    "        plt.show()\n",
    "\n",
    "    def plot_risk(self, plot_theory=False, dim=(10,6), save=None):\n",
    "        fig, ax = plt.subplots(figsize=dim)\n",
    "        self._risk_on_ax(ax, plot_theory)\n",
    "        if save is not None:\n",
    "            fig.savefig(save, transparent=True)\n",
    "        plt.show()\n",
    "\n",
    "    def plot_process_and_risk(self, plot_theory=False, dim=(10,8), save=None):\n",
    "        fig, ax = plt.subplots(figsize=dim)\n",
    "        self._process_on_ax(ax, plot_theory)\n",
    "        self._risk_on_ax(ax, plot_theory)\n",
    "        if save is not None:\n",
    "            fig.savefig(save, transparent=True)\n",
    "        plt.show()\n",
    "\n",
    "    def plot_process_and_intensity(self, plot_theory=False, dim=(10,8), save=None):\n",
    "        fig, (ax1, ax2) = plt.subplots(2, 1, figsize=dim)\n",
    "        self._process_on_ax(ax1, plot_theory=plot_theory)\n",
    "        self._intensity_on_ax(ax2, plot_theory=plot_theory)\n",
    "        fig.tight_layout()\n",
    "        if save is not None:\n",
    "            fig.savefig(save, transparent=True)\n",
    "        plt.show()\n",
    "\n",
    "    def plot_process_and_intensity_and_risk(self, plot_theory=False, dim=(10,10), save=None):\n",
    "        fig, (ax1, ax2, ax3) = plt.subplots(3, 1, figsize=dim)\n",
    "        self._process_on_ax(ax1, plot_theory)\n",
    "        self._intensity_on_ax(ax2, plot_theory)\n",
    "        self._risk_on_ax(ax3, plot_theory)\n",
    "        fig.tight_layout()\n",
    "        if save is not None:\n",
    "            fig.savefig(save, transparent=True)\n",
    "        plt.show()"
   ]
  },
  {
   "cell_type": "code",
   "execution_count": null,
   "metadata": {
    "ExecuteTime": {
     "end_time": "2021-12-13T14:41:37.084990Z",
     "start_time": "2021-12-13T14:41:35.626779Z"
    },
    "pycharm": {
     "name": "#%%\n"
    }
   },
   "outputs": [],
   "source": [
    "class HawkesProcess(CountingProcess):\n",
    "    def __init__(self,\n",
    "                 mu: float,\n",
    "                 alpha: float,\n",
    "                 beta: float,\n",
    "                 name: str = \"Hawkes process\",\n",
    "                 **kwargs):\n",
    "        if alpha <  0 or beta < alpha:\n",
    "            raise ValueError(f\"We must have 0 < alpha < beta (alpha={alpha} and beta={beta})\")\n",
    "        self.mu = mu\n",
    "        self.alpha = alpha\n",
    "        self.beta = beta\n",
    "        super().__init__(process_name=name, **kwargs)\n",
    "\n",
    "    def get_mean_and_variance(self, t, variable=\"process\"):\n",
    "        diff = self.beta - self.alpha\n",
    "        mu_inf = self.beta*self.mu/diff\n",
    "        diff_mu = self.mu - mu_inf\n",
    "        if variable == \"process\":\n",
    "            mean = mu_inf*t + diff_mu/diff * (1 - np.exp(-diff*t))\n",
    "            var = self.beta**2*mu_inf/(diff**2)*t + \\\n",
    "                  self.alpha**2*(2*self.mu - mu_inf)/(2*diff**3) * (1 - np.exp(-2*diff*t)) - \\\n",
    "                  2*self.alpha*self.beta*diff_mu/(diff**2) * t * np.exp(-diff*t) + \\\n",
    "                  ( (self.beta+self.alpha)/(diff**2) * diff_mu - 2*self.alpha*self.beta/(diff**3) * mu_inf ) * (1 - np.exp(-diff*t))\n",
    "        elif variable == \"intensity\":\n",
    "            mean = mu_inf + diff_mu * np.exp(-diff*t)\n",
    "            var = self.alpha**2*mu_inf/(2*diff) + self.alpha**2*diff_mu/diff*np.exp(-diff*t) - self.alpha**2*(2*self.mu-mu_inf)/(2*diff)*np.exp(-2*diff*t)\n",
    "        elif variable == \"risk\":\n",
    "            claim_mean = np.mean([self.claim_law() for _ in range(100000)])\n",
    "            mean_process, _ = self.get_mean_and_variance(t, variable=\"process\")\n",
    "            mean = self.u + self.p*t - claim_mean * mean_process\n",
    "            var = 0\n",
    "            warn(\"Risk variance is not implemented for Hawkes process\", stacklevel=2)\n",
    "        else:\n",
    "            raise NotImplementedError(f\"Not implemented yet for variable {variable}\")\n",
    "        return mean, np.clip(var, 0, np.inf)\n",
    "\n",
    "    def phi(self, t):\n",
    "        return self.alpha * np.exp(-self.beta * t)\n",
    "\n",
    "    def lamb(self, t, tau):\n",
    "        return self.mu + sum([self.phi(t-tk) for tk in tau])\n",
    "\n",
    "    def generate_events(self):\n",
    "        Tau = []\n",
    "        s = 0\n",
    "        while s < self.T:\n",
    "            lambda_bar = self.lamb(s, Tau)\n",
    "            w = np.random.exponential(1/lambda_bar)\n",
    "            s += w\n",
    "            D = np.random.uniform(0, lambda_bar)\n",
    "            if D <= self.lamb(s, Tau):\n",
    "                Tau.append(s)\n",
    "        if Tau[-1] <= self.T:\n",
    "            return Tau\n",
    "        else:\n",
    "            return Tau[:-1]\n",
    "\n",
    "    def generate_intensity(self):\n",
    "        x = np.array([0, self.events[0]])\n",
    "        intensity = np.array([self.mu, self.mu])\n",
    "        pointsT = self.events + [self.T]\n",
    "        for i in range(0, len(pointsT)-1):\n",
    "            p1, p2 = pointsT[i:i+2]\n",
    "            local_x = np.linspace(p1, p2, self.res)\n",
    "            local_intensity = [self.lamb(xi, pointsT[:i+1]) for xi in local_x]\n",
    "            x = np.append(x, local_x)\n",
    "            intensity = np.append(intensity, local_intensity)\n",
    "        return x, intensity\n",
    "\n",
    "h = HawkesProcess(mu=1.2, alpha=0.6, beta=0.8, T=20, u=1, p=1, seed=120)\n",
    "h.plot_process_and_intensity_and_risk(plot_theory=True)"
   ]
  },
  {
   "cell_type": "code",
   "execution_count": null,
   "metadata": {
    "ExecuteTime": {
     "end_time": "2021-12-13T14:41:37.464197Z",
     "start_time": "2021-12-13T14:41:37.086258Z"
    },
    "pycharm": {
     "name": "#%%\n"
    }
   },
   "outputs": [],
   "source": [
    "class PoissonProcess(CountingProcess):\n",
    "    def __init__(self,\n",
    "                 lamb: float,\n",
    "                 name: str = \"Poisson process\",\n",
    "                 **kwargs):\n",
    "        if lamb <= 0:\n",
    "            raise ValueError(f\"lambda must be strictly positive (lambda={lamb})\")\n",
    "        self.lamb = lamb\n",
    "        super().__init__(process_name=name, **kwargs)\n",
    "\n",
    "    def get_mean_and_variance(self, t, variable=\"process\"):\n",
    "        raise NotImplementedError(f\"Not implemented yet\")\n",
    "\n",
    "    def generate_events(self):\n",
    "        Tau = []\n",
    "        s = 0\n",
    "        while s < self.T:\n",
    "            u = np.random.uniform(0,1)\n",
    "            w = -np.log(u)/self.lamb\n",
    "            s += w\n",
    "            Tau.append(s)\n",
    "        return Tau\n",
    "\n",
    "    def generate_intensity(self):\n",
    "        x = [0, self.T]\n",
    "        intensity = [self.lamb, self.lamb]\n",
    "        return x, intensity\n",
    "\n",
    "p = PoissonProcess(lamb=2, T=20, seed=120)\n",
    "p.plot_process_and_intensity_and_risk()"
   ]
  },
  {
   "cell_type": "code",
   "execution_count": null,
   "metadata": {
    "ExecuteTime": {
     "end_time": "2021-12-13T14:41:37.920833Z",
     "start_time": "2021-12-13T14:41:37.466068Z"
    },
    "pycharm": {
     "name": "#%%\n"
    }
   },
   "outputs": [],
   "source": [
    "class NonHomogeneousPoissonProcess(CountingProcess):\n",
    "    def __init__(self,\n",
    "                 lamb: Callable[[float], float],\n",
    "                 name: str = \"Inhomogeneous Poisson process\",\n",
    "                 **kwargs):\n",
    "        self.lamb = lamb\n",
    "        super().__init__(process_name=name, **kwargs)\n",
    "        if not all([self.lamb(x) >= 0 for x in np.arange(0, self.T, self.res)]):\n",
    "            raise ValueError(f\"lambda must be strictly positive (lambda={lamb})\")\n",
    "\n",
    "    def get_mean_and_variance(self, t, variable=\"process\"):\n",
    "        raise NotImplementedError(f\"Not implemented yet\")\n",
    "\n",
    "    def generate_events(self):\n",
    "        M = max(self.generate_intensity()[1])\n",
    "        Tau = []\n",
    "        s = 0\n",
    "        while s < self.T:\n",
    "            w = np.random.exponential(1/M)\n",
    "            s += w\n",
    "            D = np.random.uniform(0, M)\n",
    "            if D <= self.lamb(s):\n",
    "                Tau.append(s)\n",
    "        if Tau[-1] <= self.T:\n",
    "            return Tau\n",
    "        else:\n",
    "            return Tau[:-1]\n",
    "\n",
    "    def generate_intensity(self):\n",
    "        x = np.linspace(0, self.T, self.res)\n",
    "        intensity = [self.lamb(xi) for xi in x]\n",
    "        return x, intensity\n",
    "\n",
    "nhp = NonHomogeneousPoissonProcess(lamb=lambda x: (.8*np.cos(x-8)+1)**4+1, T=8, seed=1177971048)\n",
    "nhp.plot_process_and_intensity_and_risk(save=\"./figures/nh_poisson_introduction.png\")"
   ]
  },
  {
   "cell_type": "markdown",
   "metadata": {},
   "source": [
    "# Varying $p$ and $u$"
   ]
  },
  {
   "cell_type": "code",
   "execution_count": null,
   "metadata": {
    "ExecuteTime": {
     "end_time": "2021-12-13T14:42:48.204368Z",
     "start_time": "2021-12-13T14:41:37.923107Z"
    },
    "pycharm": {
     "name": "#%%\n"
    }
   },
   "outputs": [],
   "source": [
    "n = 10\n",
    "max_u = 5\n",
    "max_p = 5\n",
    "u = np.linspace(0, max_u, n)\n",
    "p = np.linspace(0, max_p, n)\n",
    "\n",
    "R_hp = []\n",
    "R = []\n",
    "uu, pp = [], []\n",
    "from tqdm.notebook import tqdm\n",
    "np.random.seed(10)\n",
    "for i in tqdm(range(0, u.shape[0])):\n",
    "    for j in range(0, p.shape[0]):\n",
    "        for k in range(0,30):\n",
    "            h = HawkesProcess(mu=2, alpha=0.6, beta=.8, T=20, u=u[i], p=p[j], seed=None)\n",
    "            h.claims = h.generate_claims()\n",
    "\n",
    "            xvalues_hp, risk_hp = h.generate_risk()\n",
    "\n",
    "            ruin_hp = np.array([t for (t,r) in zip(xvalues_hp, risk_hp) if r < 0])\n",
    "\n",
    "            if len(ruin_hp) != 0:\n",
    "                R_hp.append(ruin_hp[0])\n",
    "\n",
    "        R.append(np.mean(R_hp))\n",
    "        uu.append(u[i])\n",
    "        pp.append(p[j])"
   ]
  },
  {
   "cell_type": "code",
   "execution_count": null,
   "metadata": {
    "ExecuteTime": {
     "end_time": "2021-12-13T14:42:48.489746Z",
     "start_time": "2021-12-13T14:42:48.208401Z"
    },
    "pycharm": {
     "name": "#%%\n"
    }
   },
   "outputs": [],
   "source": [
    "fig, ax = plt.subplots(figsize=(6, 6))\n",
    "p = ax.imshow(np.array(R).reshape((n,n)), origin=\"lower\", extent=[0, max_p, 0, max_u])\n",
    "plt.colorbar(p)\n",
    "ax.set_ylabel(\"u\")\n",
    "ax.set_xlabel(\"p\")\n",
    "fig.savefig(\"./figures/vary_p_and_u.pdf\", dpi=100, bbox_inches=\"tight\")\n",
    "plt.show()"
   ]
  },
  {
   "cell_type": "markdown",
   "metadata": {},
   "source": [
    "# Example cac40"
   ]
  },
  {
   "cell_type": "code",
   "execution_count": null,
   "metadata": {
    "ExecuteTime": {
     "end_time": "2021-12-13T14:42:48.700114Z",
     "start_time": "2021-12-13T14:42:48.492147Z"
    },
    "pycharm": {
     "name": "#%%\n"
    }
   },
   "outputs": [],
   "source": [
    "import pandas as pd\n",
    "import matplotlib.pyplot as plt"
   ]
  },
  {
   "cell_type": "code",
   "execution_count": null,
   "metadata": {
    "ExecuteTime": {
     "end_time": "2021-12-13T14:42:48.926163Z",
     "start_time": "2021-12-13T14:42:48.701928Z"
    },
    "pycharm": {
     "name": "#%%\n"
    }
   },
   "outputs": [],
   "source": [
    "df = pd.read_csv('cac40.csv',parse_dates=[\"Date\"],infer_datetime_format=True)\n",
    "fig, ax = plt.subplots(figsize=(15,5))\n",
    "ax.plot(df[\"Date\"], df[\"Close\"])\n",
    "ax.set_title(\"CAC 40 stock market evolution\")\n",
    "ax.set_xlabel(\"Date\")\n",
    "ax.set_ylabel(\"Value\")\n",
    "ax.grid()\n",
    "fig.savefig(\"./figures/cac40.pdf\", dpi=100, bbox_inches='tight')\n",
    "plt.show()"
   ]
  },
  {
   "cell_type": "code",
   "execution_count": null,
   "metadata": {
    "ExecuteTime": {
     "end_time": "2021-12-13T14:42:49.214223Z",
     "start_time": "2021-12-13T14:42:48.927957Z"
    },
    "pycharm": {
     "name": "#%%\n"
    }
   },
   "outputs": [],
   "source": [
    "diff = np.diff(df[\"Close\"])\n",
    "fig, ax = plt.subplots(figsize=(15,5))\n",
    "ax.plot(df[\"Date\"], df[\"Close\"])\n",
    "events = np.argwhere(diff < -150).ravel().astype(float)\n",
    "ax.vlines(df[\"Date\"][events], *ax.get_ylim(), color=\"red\", zorder=10, linestyles=\"dashed\", linewidth=1, alpha=.5)\n",
    "ax.set_title(\"Evolution of CAC40 (highlighting drops greater than 150)\")\n",
    "ax.set_xlabel(\"Date\")\n",
    "ax.set_ylabel(\"Value\")\n",
    "ax.grid()\n",
    "fig.savefig(\"./figures/cac40_events.pdf\", dpi=100, bbox_inches='tight')\n",
    "plt.show()"
   ]
  },
  {
   "cell_type": "code",
   "execution_count": null,
   "metadata": {
    "ExecuteTime": {
     "end_time": "2021-12-13T14:42:50.941071Z",
     "start_time": "2021-12-13T14:42:49.216355Z"
    },
    "pycharm": {
     "name": "#%%\n"
    }
   },
   "outputs": [],
   "source": [
    "from tick.hawkes import HawkesExpKern"
   ]
  },
  {
   "cell_type": "code",
   "execution_count": null,
   "metadata": {
    "ExecuteTime": {
     "end_time": "2021-12-13T14:42:52.630897Z",
     "start_time": "2021-12-13T14:42:50.942710Z"
    },
    "pycharm": {
     "name": "#%%\n"
    }
   },
   "outputs": [],
   "source": [
    "betas = np.logspace(-4, 1, 100)  # as tick does not fit beta, we do it manually\n",
    "scores = []\n",
    "for beta in betas:\n",
    "    process = HawkesExpKern(beta).fit([events])\n",
    "    scores.append(process.score([events]))\n",
    "fig, ax = plt.subplots(figsize=(10,5))\n",
    "ax.semilogx(betas, scores)  # plot log-likelihood as a function of beta\n",
    "ax.set_title(\"Log-likelihood as a function of beta\")\n",
    "ax.set_xlabel(\"Beta\")\n",
    "ax.set_ylabel(\"Log-likelihood\")\n",
    "ax.grid()\n",
    "fig.savefig(\"./figures/beta_likelihood.pdf\", dpi=100, bbox_inches='tight')\n",
    "plt.show()"
   ]
  },
  {
   "cell_type": "code",
   "execution_count": null,
   "metadata": {
    "ExecuteTime": {
     "end_time": "2021-12-13T14:42:52.672837Z",
     "start_time": "2021-12-13T14:42:52.633504Z"
    },
    "pycharm": {
     "name": "#%%\n"
    }
   },
   "outputs": [],
   "source": [
    "best_index = np.argmax(scores)\n",
    "best_beta = betas[best_index]\n",
    "print(f\"Best beta: {best_beta}\")\n",
    "process = HawkesExpKern(best_beta).fit([events])\n",
    "process.fit([events])\n",
    "mu = process.coeffs[0]\n",
    "alpha = process.coeffs[1]*best_beta  # as the alpha of our model is not the same as the tick one (our_alpha = tick_alpha*beta)\n",
    "print(f\"Best mu: {mu}\")\n",
    "print(f\"Best alpha: {alpha}\")\n",
    "print(f\"Model log-likelihood: {process.score([events])}\")"
   ]
  },
  {
   "cell_type": "code",
   "execution_count": null,
   "metadata": {
    "ExecuteTime": {
     "end_time": "2021-12-13T14:42:52.930669Z",
     "start_time": "2021-12-13T14:42:52.673873Z"
    },
    "pycharm": {
     "name": "#%%\n"
    }
   },
   "outputs": [],
   "source": [
    "intens, x_steps = process.estimated_intensity([events], 1, end_time=len(df))\n",
    "integer = np.argwhere(np.diff(x_steps) != 0).ravel()  # fix a bug with the dimensions (same for the following df[\"Date\"][:-2])\n",
    "intens = intens[0][integer]\n",
    "x_steps = x_steps[integer]\n",
    "fig, ax = plt.subplots(figsize=(15,5))\n",
    "ax.plot(df[\"Date\"][:-2], intens)\n",
    "ax.vlines(df[\"Date\"][events], *ax.get_ylim(), color=\"red\", zorder=10, linestyles=\"dashed\", linewidth=1, alpha=.3)\n",
    "ax.set_title(\"Intensity of the fitted process\")\n",
    "ax.set_xlabel(\"Date\")\n",
    "ax.set_ylabel(\"Intensity\")\n",
    "ax.grid()\n",
    "fig.savefig(\"./figures/cac40_intensity.pdf\", dpi=100, bbox_inches='tight')\n",
    "plt.show()"
   ]
  },
  {
   "cell_type": "code",
   "execution_count": null,
   "metadata": {
    "ExecuteTime": {
     "end_time": "2021-12-13T14:42:53.214743Z",
     "start_time": "2021-12-13T14:42:52.933302Z"
    },
    "pycharm": {
     "name": "#%%\n"
    }
   },
   "outputs": [],
   "source": [
    "# Visual goodness test based on https://pat-laub.github.io/pdfs/honours_thesis.pdf\n",
    "cum_intens = np.cumsum(intens)  # compute cumulative intensity\n",
    "fig, ax = plt.subplots(figsize=(15,5))\n",
    "ax.plot(df[\"Date\"][:-2], cum_intens)\n",
    "ax.vlines(df[\"Date\"][events], *ax.get_ylim(), color=\"red\", alpha=.2, zorder=10, linestyle=\"dashed\")\n",
    "ax.set_title(\"Cumulated intensity of the fitted process\")\n",
    "ax.set_xlabel(\"Date\")\n",
    "ax.set_ylabel(\"Cumulated intensity\")\n",
    "ax.grid()\n",
    "fig.savefig(\"./figures/cac40_cum_intensity.pdf\", dpi=100, bbox_inches='tight')\n",
    "plt.show()"
   ]
  },
  {
   "cell_type": "code",
   "execution_count": null,
   "metadata": {
    "ExecuteTime": {
     "end_time": "2021-12-13T14:42:53.709021Z",
     "start_time": "2021-12-13T14:42:53.217227Z"
    },
    "pycharm": {
     "name": "#%%\n"
    }
   },
   "outputs": [],
   "source": [
    "from scipy.stats import expon\n",
    "def cum_intens_func(t):\n",
    "    return cum_intens[np.searchsorted(x_steps, t-1)]\n",
    "events_transformed = cum_intens_func(events)  # this should be a Poisson process with intensity 1\n",
    "fig, (ax1, ax2) = plt.subplots(ncols=2, figsize=(20,5))\n",
    "ax1.scatter(events_transformed, np.arange(1, len(events_transformed)+1))\n",
    "ax1.plot([0, events_transformed.max()], [0, events_transformed.max()], color=\"red\", linestyle=\"dashed\")  # this should align on the line y=x (goodness of fit)\n",
    "ax1.set_title(\"Q-Q plot for validating the Poisson process assertion (transformed Hawkes process)\")\n",
    "ax1.set_xlabel(\"Empirical quantiles\")\n",
    "ax1.set_ylabel(\"Theoretical quantiles\")\n",
    "ax2.scatter(expon.cdf(np.diff(events_transformed)), expon.cdf(np.diff(np.roll(events_transformed, 1))))  # this should be uniformly distributed (independence of arrival times)\n",
    "ax2.set_title(r\"Distribution of the points ($T_i, T_{i-1}$)\")\n",
    "ax2.set_xlabel(\"$T_i$\")\n",
    "ax2.set_ylabel(\"$T_{i-1}$\")\n",
    "ax1.grid()\n",
    "ax2.grid()\n",
    "fig.savefig(\"./figures/cac40_qq_plot.pdf\", dpi=100, bbox_inches='tight')\n",
    "plt.show()"
   ]
  },
  {
   "cell_type": "code",
   "execution_count": null,
   "metadata": {
    "ExecuteTime": {
     "end_time": "2021-12-13T14:42:54.227290Z",
     "start_time": "2021-12-13T14:42:53.714109Z"
    },
    "pycharm": {
     "name": "#%%\n"
    }
   },
   "outputs": [],
   "source": [
    "# same plots but directly for the Hawkes process (to show that it doesn't fit)\n",
    "fig, (ax1, ax2) = plt.subplots(ncols=2, figsize=(20,5))\n",
    "ax1.scatter(events, np.arange(1, len(events)+1))\n",
    "ax1.set_title(\"Q-Q plot for the not transformed Hawkes process\")\n",
    "ax1.set_xlabel(\"Empirical quantiles\")\n",
    "ax1.set_ylabel(\"Theoretical quantiles\")\n",
    "ax2.scatter(expon.cdf(np.diff(events)), expon.cdf(np.diff(np.roll(events, 1))))\n",
    "ax2.set_title(\"Distribution of the points (Zi,Zi-1)\")\n",
    "ax2.set_title(r\"Distribution of the points ($T_i, T_{i-1}$)\")\n",
    "ax2.set_xlabel(\"$T_i$\")\n",
    "ax2.set_ylabel(\"$T_{i-1}$\")\n",
    "ax1.grid()\n",
    "ax2.grid()\n",
    "fig.savefig(\"./figures/cac40_qq_plot_hawkes.pdf\", dpi=100, bbox_inches='tight')\n",
    "plt.show()"
   ]
  }
 ],
 "metadata": {
  "hide_input": false,
  "kernelspec": {
   "display_name": "Python 3",
   "language": "python",
   "name": "python3"
  },
  "language_info": {
   "codemirror_mode": {
    "name": "ipython",
    "version": 3
   },
   "file_extension": ".py",
   "mimetype": "text/x-python",
   "name": "python",
   "nbconvert_exporter": "python",
   "pygments_lexer": "ipython3",
   "version": "3.8.3"
  },
  "toc": {
   "base_numbering": 1,
   "nav_menu": {},
   "number_sections": true,
   "sideBar": true,
   "skip_h1_title": false,
   "title_cell": "Table of Contents",
   "title_sidebar": "Contents",
   "toc_cell": false,
   "toc_position": {},
   "toc_section_display": true,
   "toc_window_display": false
  },
  "varInspector": {
   "cols": {
    "lenName": 16,
    "lenType": 16,
    "lenVar": 40
   },
   "kernels_config": {
    "python": {
     "delete_cmd_postfix": "",
     "delete_cmd_prefix": "del ",
     "library": "var_list.py",
     "varRefreshCmd": "print(var_dic_list())"
    },
    "r": {
     "delete_cmd_postfix": ") ",
     "delete_cmd_prefix": "rm(",
     "library": "var_list.r",
     "varRefreshCmd": "cat(var_dic_list()) "
    }
   },
   "types_to_exclude": [
    "module",
    "function",
    "builtin_function_or_method",
    "instance",
    "_Feature"
   ],
   "window_display": false
  }
 },
 "nbformat": 4,
 "nbformat_minor": 4
}
